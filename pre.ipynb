{
 "cells": [
  {
   "cell_type": "code",
   "execution_count": 1,
   "metadata": {},
   "outputs": [],
   "source": [
    "import json"
   ]
  },
  {
   "cell_type": "code",
   "execution_count": 2,
   "metadata": {},
   "outputs": [],
   "source": [
    "file_load_path = \"./data/train_original.json\"\n",
    "with open(file_load_path, \"r\") as f:\n",
    "    json_text = json.load(f)"
   ]
  },
  {
   "cell_type": "code",
   "execution_count": 6,
   "metadata": {},
   "outputs": [
    {
     "data": {
      "text/plain": [
       "5"
      ]
     },
     "execution_count": 6,
     "metadata": {},
     "output_type": "execute_result"
    }
   ],
   "source": [
    "len(json_text[\"documents\"][15][\"text\"])"
   ]
  },
  {
   "cell_type": "code",
   "execution_count": 11,
   "metadata": {},
   "outputs": [],
   "source": [
    "data = {}\n",
    "data[\"data\"] = []\n",
    "for i in range(len(json_text[\"documents\"])):\n",
    "    text = json_text[\"documents\"][i][\"text\"]\n",
    "    if len(text) == 1:\n",
    "        # print(text)\n",
    "        single_sentence = \" \".join([item[\"sentence\"] for item in text[0]])\n",
    "        # print(i, single_sentence, \"\\n\")\n",
    "    else:\n",
    "        single_sentence = \" \"\n",
    "        for j in range(len(text)):\n",
    "            for item in text[j]:\n",
    "                single_sentence += item[\"sentence\"]\n",
    "    abstract = json_text[\"documents\"][i][\"abstractive\"][0]\n",
    "    data[\"data\"].append({\"index\": i, \"text\": single_sentence, \"abstract\": abstract})\n",
    "\n",
    "# print(data)\n",
    "file_save_path = \"./data/train.json\"\n",
    "with open(file_save_path, \"w\") as f:\n",
    "    json.dump(data, f, indent=4, ensure_ascii=False)"
   ]
  },
  {
   "cell_type": "code",
   "execution_count": null,
   "metadata": {},
   "outputs": [],
   "source": []
  }
 ],
 "metadata": {
  "kernelspec": {
   "display_name": "venv",
   "language": "python",
   "name": "python3"
  },
  "language_info": {
   "codemirror_mode": {
    "name": "ipython",
    "version": 3
   },
   "file_extension": ".py",
   "mimetype": "text/x-python",
   "name": "python",
   "nbconvert_exporter": "python",
   "pygments_lexer": "ipython3",
   "version": "3.11.7"
  }
 },
 "nbformat": 4,
 "nbformat_minor": 2
}
