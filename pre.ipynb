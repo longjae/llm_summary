{
 "cells": [
  {
   "cell_type": "code",
   "execution_count": 1,
   "metadata": {},
   "outputs": [],
   "source": [
    "import json\n",
    "import re"
   ]
  },
  {
   "cell_type": "code",
   "execution_count": 45,
   "metadata": {},
   "outputs": [],
   "source": [
    "file_load_path = \"./data/valid_original.json\"\n",
    "with open(file_load_path, \"r\") as f:\n",
    "    json_text = json.load(f)"
   ]
  },
  {
   "cell_type": "code",
   "execution_count": 46,
   "metadata": {},
   "outputs": [
    {
     "data": {
      "text/plain": [
       "{'id': '83587',\n",
       " 'category': '일반행정',\n",
       " 'size': 'small',\n",
       " 'char_count': 509,\n",
       " 'publish_date': '20041125',\n",
       " 'title': '사도개설허가취소신청거부처분취소',\n",
       " 'text': [[{'index': 0,\n",
       "    'sentence': '[1] 취소소송은 처분 등이 있음을 안 날부터 90일 이내에 제기하여야 하고,',\n",
       "    'highlight_indices': '20,21'},\n",
       "   {'index': 1, 'sentence': '처분 등이 있은 날부터 1년을 경과하면', 'highlight_indices': ''},\n",
       "   {'index': 2,\n",
       "    'sentence': '제기하지 못하며( 행정소송법 제20조 제1항, 제2항), 청구취지를 변경하여 구 소가 취하되고 새로운 소가 제기된 것으로 변경되었을 때에 새로운 소에 대한 제소기간의 준수 등은 원칙적으로 소의 변경이 있은 때를 기준으로 하여야 한다.',\n",
       "    'highlight_indices': ''}],\n",
       "  [{'index': 3,\n",
       "    'sentence': '[2] 일반적으로 행정처분에 효력기간이 정하여져 있는 경우에는 그 기간의 경과로 그 행정처분의 효력은 상실되며,',\n",
       "    'highlight_indices': '35,36;45,46'},\n",
       "   {'index': 4,\n",
       "    'sentence': '다만 허가에 붙은 기한이 그 허가된 사업의 성질상 부당하게 짧은 경우에는 이를 그 허가 자체의 존속기간이 아니라 그 허가조건의 존속기간으로 보아 그 기한이 도래함으로써 그 조건의 개정을 고려한다는 뜻으로 해석할 수 있다.',\n",
       "    'highlight_indices': '0,2;14,15;63,64;81,82;94,95'}],\n",
       "  [{'index': 5,\n",
       "    'sentence': '[3] 사도개설허가에서 정해진 공사기간 내에 사도로 준공검사를 받지 못한 경우,',\n",
       "    'highlight_indices': ''},\n",
       "   {'index': 6,\n",
       "    'sentence': '이 공사기간을 사도개설허가 자체의 존속기간(유효기간)으로 볼 수 없다는 이유로 사도개설허가가 당연히 실효되는 것은 아니라고 한 사례.',\n",
       "    'highlight_indices': '0,1;52,55;69,70'}]],\n",
       " 'annotator_id': 3852,\n",
       " 'document_quality_scores': {'readable': 3,\n",
       "  'accurate': 4,\n",
       "  'informative': 4,\n",
       "  'trustworthy': 4},\n",
       " 'extractive': [0, 4, 6],\n",
       " 'abstractive': ['취소소송은 처분 등이 있다는 것을 안 때로부터 90일 이내에 제기하여야 하고, 행정처분에서의 허가에 붙은 기한이 부당하게 짧은 경우에는 이를 허가조건 존속기간으로 보아서 그 기한의 도래로 조건 개정을 고려한다고 해석할 수 있기에, 사도개설허가의 준공검사를 받지 못한 것은 사도개설허가 자체의 존속기간으로 볼 수 없다는 까닭으로 이것이 실효되는 것은 아니다.']}"
      ]
     },
     "execution_count": 46,
     "metadata": {},
     "output_type": "execute_result"
    }
   ],
   "source": [
    "json_text[\"documents\"][0]"
   ]
  },
  {
   "cell_type": "code",
   "execution_count": 47,
   "metadata": {},
   "outputs": [],
   "source": [
    "data = {}\n",
    "data[\"data\"] = []\n",
    "# for i in range(len(json_text[\"documents\"])):\n",
    "for i in range(len(json_text[\"documents\"])):\n",
    "    if json_text[\"documents\"][i][\"category\"] == \"가사\":\n",
    "        continue\n",
    "\n",
    "    text = json_text[\"documents\"][i][\"text\"]\n",
    "    if len(text) == 1:\n",
    "        # print(text)\n",
    "        single_sentence = \" \".join([item[\"sentence\"] for item in text[0]])\n",
    "        # print(i, single_sentence, \"\\n\")\n",
    "    else:\n",
    "        single_sentence = \" \"\n",
    "        for j in range(len(text)):\n",
    "            for item in text[j]:\n",
    "                single_sentence += item[\"sentence\"]\n",
    "    single_sentence = re.sub(r\"\\[\\d+\\]\\s*\", \" \", single_sentence)\n",
    "    abstract = json_text[\"documents\"][i][\"abstractive\"][0]\n",
    "    data[\"data\"].append(\n",
    "        {\n",
    "            \"index\": i,\n",
    "            \"category\": json_text[\"documents\"][i][\"category\"],\n",
    "            \"text\": single_sentence,\n",
    "            \"abstract\": abstract,\n",
    "        }\n",
    "    )\n",
    "\n",
    "# print(data)\n",
    "file_save_path = \"./data/valid.json\"\n",
    "with open(file_save_path, \"w\") as f:\n",
    "    json.dump(data, f, indent=4, ensure_ascii=False)"
   ]
  },
  {
   "cell_type": "code",
   "execution_count": 48,
   "metadata": {},
   "outputs": [
    {
     "name": "stdout",
     "output_type": "stream",
     "text": [
      "3004\n",
      "['특허', '가사', '형사', '일반행정', '민사', '세무']\n",
      "{'patent': 126, 'family': 27, 'criminal': 1015, 'general': 444, 'civil': 990, 'tax': 402}\n"
     ]
    }
   ],
   "source": [
    "documents = json_text[\"documents\"]\n",
    "categorys = []\n",
    "count_list = {\n",
    "    \"patent\": 0,\n",
    "    \"family\": 0,\n",
    "    \"criminal\": 0,\n",
    "    \"general\": 0,\n",
    "    \"civil\": 0,\n",
    "    \"tax\": 0,\n",
    "}\n",
    "for i in range(len(documents)):\n",
    "    categorys.append(documents[i][\"category\"])\n",
    "    if documents[i][\"category\"] == \"특허\":\n",
    "        count_list[\"patent\"] += 1\n",
    "    elif documents[i][\"category\"] == \"가사\":\n",
    "        count_list[\"family\"] += 1\n",
    "    elif documents[i][\"category\"] == \"형사\":\n",
    "        count_list[\"criminal\"] += 1\n",
    "    elif documents[i][\"category\"] == \"일반행정\":\n",
    "        count_list[\"general\"] += 1\n",
    "    elif documents[i][\"category\"] == \"민사\":\n",
    "        count_list[\"civil\"] += 1\n",
    "    else:\n",
    "        count_list[\"tax\"] += 1\n",
    "\n",
    "print(len(documents))\n",
    "print(list(set(categorys)))\n",
    "print(count_list)"
   ]
  },
  {
   "cell_type": "code",
   "execution_count": null,
   "metadata": {},
   "outputs": [],
   "source": []
  }
 ],
 "metadata": {
  "kernelspec": {
   "display_name": "venv",
   "language": "python",
   "name": "python3"
  },
  "language_info": {
   "codemirror_mode": {
    "name": "ipython",
    "version": 3
   },
   "file_extension": ".py",
   "mimetype": "text/x-python",
   "name": "python",
   "nbconvert_exporter": "python",
   "pygments_lexer": "ipython3",
   "version": "3.10.12"
  }
 },
 "nbformat": 4,
 "nbformat_minor": 2
}
