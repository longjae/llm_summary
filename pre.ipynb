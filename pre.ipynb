{
 "cells": [
  {
   "cell_type": "code",
   "execution_count": 4,
   "metadata": {},
   "outputs": [],
   "source": [
    "import json\n",
    "import re"
   ]
  },
  {
   "cell_type": "code",
   "execution_count": 2,
   "metadata": {},
   "outputs": [],
   "source": [
    "file_load_path = \"./data/valid_original.json\"\n",
    "with open(file_load_path, \"r\") as f:\n",
    "    json_text = json.load(f)"
   ]
  },
  {
   "cell_type": "code",
   "execution_count": 3,
   "metadata": {},
   "outputs": [],
   "source": [
    "data = {}\n",
    "data[\"data\"] = []\n",
    "# for i in range(len(json_text[\"documents\"])):\n",
    "for i in range(1000):\n",
    "    text = json_text[\"documents\"][i][\"text\"]\n",
    "    if len(text) == 1:\n",
    "        # print(text)\n",
    "        single_sentence = \" \".join([item[\"sentence\"] for item in text[0]])\n",
    "        # print(i, single_sentence, \"\\n\")\n",
    "    else:\n",
    "        single_sentence = \" \"\n",
    "        for j in range(len(text)):\n",
    "            for item in text[j]:\n",
    "                single_sentence += item[\"sentence\"]\n",
    "    single_sentence = re.sub(r\"\\[\\d+\\]\\s*\", \" \", single_sentence)\n",
    "    abstract = json_text[\"documents\"][i][\"abstractive\"][0]\n",
    "    data[\"data\"].append({\"index\": i, \"text\": single_sentence, \"abstract\": abstract})\n",
    "\n",
    "# print(data)\n",
    "file_save_path = \"./data/valid.json\"\n",
    "with open(file_save_path, \"w\") as f:\n",
    "    json.dump(data, f, indent=4, ensure_ascii=False)"
   ]
  },
  {
   "cell_type": "code",
   "execution_count": 8,
   "metadata": {},
   "outputs": [
    {
     "name": "stdout",
     "output_type": "stream",
     "text": [
      "{'data': [{'index': 1001, 'text': \"  구 대외무역법(2007. 4. 11. 법률 제8356호로 전문 개정되기 전의 것) 제55조 제7호,제23조 제3항 제2호는 '무역거래자 또는 물품 등의 판매업자가 원산지의 표시를 손상하거나 변경하는 행위'를 처벌하도록 규정하고 있는바,같은 법 제23조 제1항 내지 제3항,구 대외무역법 시행령(2007. 9. 10. 대통령령 제20257호로 전문 개정되기 전의 것) 제53조 제2항,제4항 및 대외무역관리규정(산업자원부고시 제2003-15호) 등의 내용을 종합하여 보면,외국에서 생산된 부품 또는 원재료가 국내에 수입된 후 실질적 변형을 일으키는 제조공정에 투입되어 완성된 물품에,그 부품 또는 원재료에 행해진 원산지표시가 남아 있더라도 그 표시는 같은 법 제23조 제3항 제2호의 '원산지의 표시'에 해당하지 않고,이를 손상하여도 같은 법 제55조 제7호,제23조 제3항 제2호 위반죄가 성립하지 않는다. 중국에서 제작한 바이올린 반제품을 수입하여 국내에서 연마,도색, 주요부속의 부착 등 제조공정을 추가하여 세번이 다른 바이올린 완제품을 만든 경우,수입 당시부터 반제품에 부착되어 있던 원산지표시(MADE IN CHINA)가 완제품에 남아 있더라도 이는 구 대외무역법(2007. 4. 11. 법률 제8356호로 전문 개정되기 전의 것) 제23조 제3항 제2호의 '원산지의 표시'에 해당하지 않으므로,그 위에 새로운 라벨을 붙여 이를 외부에서 식별할 수 없도록 가린 행위는 같은 법 제55조 제7호 위반죄를 구성하지 않는다고 한 사례.\", 'abstract': \"구 대외무역법은 무역거래자나 물품 판매업자가 원산지 표시를 손상하거나 변경하는 행위를 처벌하도록 규정하는데, 완성된 물품에 외국에서 들여온 부품이나 원재료에 원산지표시가 남아 있더라도 이는 해당 법 '원산지의 표시'에 해당하지 않아서 이를 손상하거나 새로운 라벨을 붙여서 가린 행위는 구 대외무역법의 위반죄가 성립하지 않는다.\"}]}\n"
     ]
    }
   ],
   "source": [
    "data = {}\n",
    "data[\"data\"] = []\n",
    "text = json_text[\"documents\"][1001][\"text\"]\n",
    "if len(text) == 1:\n",
    "    # print(text)\n",
    "    single_sentence = \" \".join([item[\"sentence\"] for item in text[0]])\n",
    "    # print(i, single_sentence, \"\\n\")\n",
    "else:\n",
    "    single_sentence = \" \"\n",
    "    for j in range(len(text)):\n",
    "        for item in text[j]:\n",
    "            single_sentence += item[\"sentence\"]\n",
    "    single_sentence = re.sub(r\"\\[\\d+\\]\\s*\", \" \", single_sentence)\n",
    "abstract = json_text[\"documents\"][1001][\"abstractive\"][0]\n",
    "data[\"data\"].append({\"index\": 1001, \"text\": single_sentence, \"abstract\": abstract})\n",
    "print(data)"
   ]
  },
  {
   "cell_type": "code",
   "execution_count": null,
   "metadata": {},
   "outputs": [],
   "source": []
  }
 ],
 "metadata": {
  "kernelspec": {
   "display_name": "venv",
   "language": "python",
   "name": "python3"
  },
  "language_info": {
   "codemirror_mode": {
    "name": "ipython",
    "version": 3
   },
   "file_extension": ".py",
   "mimetype": "text/x-python",
   "name": "python",
   "nbconvert_exporter": "python",
   "pygments_lexer": "ipython3",
   "version": "3.11.7"
  }
 },
 "nbformat": 4,
 "nbformat_minor": 2
}
