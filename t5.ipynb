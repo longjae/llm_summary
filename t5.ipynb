{
 "cells": [
  {
   "cell_type": "code",
   "execution_count": 14,
   "metadata": {},
   "outputs": [
    {
     "name": "stderr",
     "output_type": "stream",
     "text": [
      "[nltk_data] Downloading package punkt to /home/root1/nltk_data...\n",
      "[nltk_data]   Package punkt is already up-to-date!\n",
      "tokenizer_config.json: 100%|██████████| 2.40k/2.40k [00:00<00:00, 12.8MB/s]\n",
      "tokenizer.json: 100%|██████████| 2.92M/2.92M [00:00<00:00, 5.25MB/s]\n",
      "special_tokens_map.json: 100%|██████████| 2.20k/2.20k [00:00<00:00, 11.1MB/s]\n",
      "Special tokens have been added in the vocabulary, make sure the associated word embeddings are fine-tuned or trained.\n",
      "config.json: 100%|██████████| 784/784 [00:00<00:00, 4.81MB/s]\n",
      "model.safetensors: 100%|██████████| 3.28G/3.28G [02:41<00:00, 20.3MB/s]\n"
     ]
    }
   ],
   "source": [
    "from transformers import AutoTokenizer, AutoModelForSeq2SeqLM\n",
    "import nltk\n",
    "\n",
    "nltk.download(\"punkt\")\n",
    "\n",
    "model_dir = \"lcw99/t5-large-korean-text-summary\"\n",
    "tokenizer = AutoTokenizer.from_pretrained(model_dir)\n",
    "model = AutoModelForSeq2SeqLM.from_pretrained(model_dir)"
   ]
  },
  {
   "cell_type": "code",
   "execution_count": 15,
   "metadata": {},
   "outputs": [],
   "source": [
    "input_text = \"수출입업체인 원고가 의류제품을 제조ㆍ수출함에 있어 같은 그룹내 종합무역상사인 소외 회사의 직수출실적을 지원하기 위하여 동 회사와 수출대행계약을 체결하고 동 회사를 수익자로 하여 신용장을 개설한 후 동 회사명의로 제품을 수출하면서 그 수출물품에 관하여 소외 회사는 원고로부터 세금계산서를 교부받지 않았을 뿐 아니라, 부가가치세신고시 이를 수출로 신고하지 않았고, 외화수입금도 원신용장상 수익자인 소외 회사에 입금되나 당해은행에서 매수 즉시, 원화로 원고의 당좌계정에 입금되고 소외 회사는 대행수수료만 받아왔다면 소외 회사는 수출에 실지 참여한 바 없이 원고의 수출대행을 한 자로 명목상의 수출자에 불과할 뿐 원고가 이를 실질적으로 수출하여 그 대금에 해당하는 외화를 수입하였다 할 것이므로, 원고는 구 법인세법시행령(1983.12.31 대통령령 제10119호로 개정되기 전의 령) 제17조 제1항 제1호 소정의 수출사업을 영위하는 법인에 해당되어 그 수출금액에 대응한 해외시장개척준비금을 설정할 수 있다.\""
   ]
  },
  {
   "cell_type": "code",
   "execution_count": 16,
   "metadata": {},
   "outputs": [
    {
     "name": "stdout",
     "output_type": "stream",
     "text": [
      "RESULT >> 원고가 의류제품을 제조·수출함에 있어 동 회사와 수출대행계약을 체결하고 동 회사명의로 제품을 수출함에 있어 동 회사를 수익자로 하여 신용장을 개설한 후 수출했다.\n"
     ]
    }
   ],
   "source": [
    "max_input_length = 512 + 256\n",
    "inputs = [\"summarize: \" + input_text]\n",
    "input_ids = tokenizer(\n",
    "    inputs, max_length=max_input_length, truncation=True, return_tensors=\"pt\"\n",
    ")\n",
    "output = model.generate(\n",
    "    **input_ids,\n",
    "    do_sample=True,\n",
    "    max_length=100,\n",
    "    min_length=10,\n",
    "    num_beams=8,\n",
    ")\n",
    "\n",
    "decoded_output = tokenizer.batch_decode(output, skip_special_tokens=True)[0]\n",
    "result = nltk.sent_tokenize(decoded_output.strip())[0]\n",
    "\n",
    "print(\"RESULT >>\", result)"
   ]
  },
  {
   "cell_type": "code",
   "execution_count": null,
   "metadata": {},
   "outputs": [],
   "source": []
  }
 ],
 "metadata": {
  "language_info": {
   "name": "python"
  }
 },
 "nbformat": 4,
 "nbformat_minor": 2
}
