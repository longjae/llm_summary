{
 "cells": [
  {
   "cell_type": "code",
   "execution_count": 1,
   "metadata": {},
   "outputs": [
    {
     "name": "stderr",
     "output_type": "stream",
     "text": [
      "/Users/leesongjae/python/llm_summary/venv/lib/python3.10/site-packages/tqdm/auto.py:21: TqdmWarning: IProgress not found. Please update jupyter and ipywidgets. See https://ipywidgets.readthedocs.io/en/stable/user_install.html\n",
      "  from .autonotebook import tqdm as notebook_tqdm\n",
      "[nltk_data] Downloading package punkt to\n",
      "[nltk_data]     /Users/leesongjae/nltk_data...\n",
      "[nltk_data]   Package punkt is already up-to-date!\n",
      "Special tokens have been added in the vocabulary, make sure the associated word embeddings are fine-tuned or trained.\n"
     ]
    }
   ],
   "source": [
    "from transformers import AutoTokenizer, AutoModelForSeq2SeqLM\n",
    "import nltk\n",
    "\n",
    "nltk.download(\"punkt\")\n",
    "\n",
    "model_dir = \"lcw99/t5-base-korean-text-summary\"\n",
    "tokenizer = AutoTokenizer.from_pretrained(model_dir)\n",
    "model = AutoModelForSeq2SeqLM.from_pretrained(model_dir)"
   ]
  },
  {
   "cell_type": "code",
   "execution_count": 2,
   "metadata": {},
   "outputs": [],
   "source": [
    "input_text = \"  취소소송은 처분 등이 있음을 안 날부터 90일 이내에 제기하여야 하고,처분 등이 있은 날부터 1년을 경과하면제기하지 못하며( 행정소송법 제20조 제1항, 제2항), 청구취지를 변경하여 구 소가 취하되고 새로운 소가 제기된 것으로 변경되었을 때에 새로운 소에 대한 제소기간의 준수 등은 원칙적으로 소의 변경이 있은 때를 기준으로 하여야 한다. 일반적으로 행정처분에 효력기간이 정하여져 있는 경우에는 그 기간의 경과로 그 행정처분의 효력은 상실되며,다만 허가에 붙은 기한이 그 허가된 사업의 성질상 부당하게 짧은 경우에는 이를 그 허가 자체의 존속기간이 아니라 그 허가조건의 존속기간으로 보아 그 기한이 도래함으로써 그 조건의 개정을 고려한다는 뜻으로 해석할 수 있다. 사도개설허가에서 정해진 공사기간 내에 사도로 준공검사를 받지 못한 경우,이 공사기간을 사도개설허가 자체의 존속기간(유효기간)으로 볼 수 없다는 이유로 사도개설허가가 당연히 실효되는 것은 아니라고 한 사례.\""
   ]
  },
  {
   "cell_type": "code",
   "execution_count": 3,
   "metadata": {},
   "outputs": [
    {
     "name": "stdout",
     "output_type": "stream",
     "text": [
      "RESULT >> 취소소송은 처분 등이 있음을 안 날부터 90일 이내에 제기해야 하고 처분 등이 있은 날부터 1년을 경과하면 제기하지 못한다.\n"
     ]
    }
   ],
   "source": [
    "max_input_length = 128\n",
    "inputs = [\"summarize: \" + input_text]\n",
    "input_ids = tokenizer(\n",
    "    inputs, max_length=max_input_length, truncation=True, return_tensors=\"pt\"\n",
    ")\n",
    "output = model.generate(\n",
    "    **input_ids,\n",
    "    # do_sample=True,\n",
    "    max_length=200,\n",
    "    min_length=10,\n",
    "    num_beams=1,\n",
    ")\n",
    "\n",
    "decoded_output = tokenizer.batch_decode(output, skip_special_tokens=True)[0]\n",
    "result = nltk.sent_tokenize(decoded_output.strip())[0]\n",
    "\n",
    "print(\"RESULT >>\", result)"
   ]
  },
  {
   "cell_type": "code",
   "execution_count": 8,
   "metadata": {},
   "outputs": [
    {
     "name": "stdout",
     "output_type": "stream",
     "text": [
      "RESULT >> 취소소송 취소소송은 구 소가 취하되고 새로운 소가 제기된 경우,, 또는 구 소가 취하된 경우,................\n"
     ]
    }
   ],
   "source": [
    "from transformers import T5TokenizerFast, T5ForConditionalGeneration\n",
    "\n",
    "tokenizer = T5TokenizerFast.from_pretrained(\"paust/pko-t5-base\")\n",
    "model = T5ForConditionalGeneration.from_pretrained(\"paust/pko-t5-base\")\n",
    "\n",
    "max_input_length = 512\n",
    "inputs = [\"summarize: \" + input_text]\n",
    "input_ids = tokenizer(\n",
    "    inputs, max_length=max_input_length, truncation=True, return_tensors=\"pt\"\n",
    ")\n",
    "output = model.generate(\n",
    "    **input_ids, num_beams=3, do_sample=True, min_length=10, max_length=200\n",
    ")\n",
    "decoded_output = tokenizer.batch_decode(output, skip_special_tokens=True)[0]\n",
    "result = nltk.sent_tokenize(decoded_output.strip())[0]\n",
    "\n",
    "print(\"RESULT >>\", result)"
   ]
  },
  {
   "cell_type": "code",
   "execution_count": null,
   "metadata": {},
   "outputs": [],
   "source": []
  }
 ],
 "metadata": {
  "kernelspec": {
   "display_name": "venv",
   "language": "python",
   "name": "python3"
  },
  "language_info": {
   "codemirror_mode": {
    "name": "ipython",
    "version": 3
   },
   "file_extension": ".py",
   "mimetype": "text/x-python",
   "name": "python",
   "nbconvert_exporter": "python",
   "pygments_lexer": "ipython3",
   "version": "3.10.8"
  }
 },
 "nbformat": 4,
 "nbformat_minor": 2
}
